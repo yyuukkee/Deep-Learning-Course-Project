{
  "cells": [
    {
      "cell_type": "code",
      "execution_count": null,
      "metadata": {
        "id": "Bc0Df30V_iT8",
        "outputId": "7a696aa3-b275-4a40-e9e2-fda2050f9411"
      },
      "outputs": [
        {
          "name": "stderr",
          "output_type": "stream",
          "text": [
            "2025-05-03 20:22:52.567008: I tensorflow/core/util/port.cc:113] oneDNN custom operations are on. You may see slightly different numerical results due to floating-point round-off errors from different computation orders. To turn them off, set the environment variable `TF_ENABLE_ONEDNN_OPTS=0`.\n",
            "2025-05-03 20:22:52.602461: E external/local_xla/xla/stream_executor/cuda/cuda_dnn.cc:9261] Unable to register cuDNN factory: Attempting to register factory for plugin cuDNN when one has already been registered\n",
            "2025-05-03 20:22:52.602493: E external/local_xla/xla/stream_executor/cuda/cuda_fft.cc:607] Unable to register cuFFT factory: Attempting to register factory for plugin cuFFT when one has already been registered\n",
            "2025-05-03 20:22:52.603449: E external/local_xla/xla/stream_executor/cuda/cuda_blas.cc:1515] Unable to register cuBLAS factory: Attempting to register factory for plugin cuBLAS when one has already been registered\n",
            "2025-05-03 20:22:52.609560: I tensorflow/core/platform/cpu_feature_guard.cc:182] This TensorFlow binary is optimized to use available CPU instructions in performance-critical operations.\n",
            "To enable the following instructions: AVX2 AVX512F AVX512_VNNI AVX512_BF16 FMA, in other operations, rebuild TensorFlow with the appropriate compiler flags.\n",
            "2025-05-03 20:22:53.281768: W tensorflow/compiler/tf2tensorrt/utils/py_utils.cc:38] TF-TRT Warning: Could not find TensorRT\n"
          ]
        }
      ],
      "source": [
        "import tensorflow as tf"
      ]
    },
    {
      "cell_type": "code",
      "execution_count": null,
      "metadata": {
        "id": "DXeAiuU-_eWY",
        "outputId": "187fe7e0-becd-404f-a2db-da33100e3f2e"
      },
      "outputs": [
        {
          "data": {
            "text/plain": [
              "0"
            ]
          },
          "execution_count": 4,
          "metadata": {},
          "output_type": "execute_result"
        }
      ],
      "source": [
        "import gc\n",
        "tf.keras.backend.clear_session()\n",
        "gc.collect()"
      ]
    },
    {
      "cell_type": "code",
      "execution_count": null,
      "metadata": {
        "colab": {
          "base_uri": "https://localhost:8080/"
        },
        "id": "vILaSgIDVpIV",
        "outputId": "bf7ed45e-1c60-4895-bf5e-bbf517628fab",
        "scrolled": true
      },
      "outputs": [
        {
          "name": "stdout",
          "output_type": "stream",
          "text": [
            "Looking in indexes: https://pypi.tuna.tsinghua.edu.cn/simple\n",
            "Requirement already satisfied: transformers in /environment/miniconda3/lib/python3.11/site-packages (4.51.3)\n",
            "Requirement already satisfied: filelock in /environment/miniconda3/lib/python3.11/site-packages (from transformers) (3.13.4)\n",
            "Requirement already satisfied: huggingface-hub<1.0,>=0.30.0 in /environment/miniconda3/lib/python3.11/site-packages (from transformers) (0.30.2)\n",
            "Requirement already satisfied: numpy>=1.17 in /environment/miniconda3/lib/python3.11/site-packages (from transformers) (1.26.4)\n",
            "Requirement already satisfied: packaging>=20.0 in /environment/miniconda3/lib/python3.11/site-packages (from transformers) (23.2)\n",
            "Requirement already satisfied: pyyaml>=5.1 in /environment/miniconda3/lib/python3.11/site-packages (from transformers) (6.0.1)\n",
            "Requirement already satisfied: regex!=2019.12.17 in /environment/miniconda3/lib/python3.11/site-packages (from transformers) (2024.11.6)\n",
            "Requirement already satisfied: requests in /environment/miniconda3/lib/python3.11/site-packages (from transformers) (2.32.3)\n",
            "Requirement already satisfied: tokenizers<0.22,>=0.21 in /environment/miniconda3/lib/python3.11/site-packages (from transformers) (0.21.1)\n",
            "Requirement already satisfied: safetensors>=0.4.3 in /environment/miniconda3/lib/python3.11/site-packages (from transformers) (0.5.3)\n",
            "Requirement already satisfied: tqdm>=4.27 in /environment/miniconda3/lib/python3.11/site-packages (from transformers) (4.67.1)\n",
            "Requirement already satisfied: fsspec>=2023.5.0 in /environment/miniconda3/lib/python3.11/site-packages (from huggingface-hub<1.0,>=0.30.0->transformers) (2024.3.1)\n",
            "Requirement already satisfied: typing-extensions>=3.7.4.3 in /environment/miniconda3/lib/python3.11/site-packages (from huggingface-hub<1.0,>=0.30.0->transformers) (4.11.0)\n",
            "Requirement already satisfied: charset-normalizer<4,>=2 in /environment/miniconda3/lib/python3.11/site-packages (from requests->transformers) (2.0.4)\n",
            "Requirement already satisfied: idna<4,>=2.5 in /environment/miniconda3/lib/python3.11/site-packages (from requests->transformers) (3.4)\n",
            "Requirement already satisfied: urllib3<3,>=1.21.1 in /environment/miniconda3/lib/python3.11/site-packages (from requests->transformers) (2.1.0)\n",
            "Requirement already satisfied: certifi>=2017.4.17 in /environment/miniconda3/lib/python3.11/site-packages (from requests->transformers) (2024.2.2)\n",
            "Looking in indexes: https://pypi.tuna.tsinghua.edu.cn/simple\n",
            "Requirement already satisfied: tf-keras in /environment/miniconda3/lib/python3.11/site-packages (2.19.0)\n",
            "Requirement already satisfied: tensorflow<2.20,>=2.19 in /environment/miniconda3/lib/python3.11/site-packages (from tf-keras) (2.19.0)\n",
            "Requirement already satisfied: absl-py>=1.0.0 in /environment/miniconda3/lib/python3.11/site-packages (from tensorflow<2.20,>=2.19->tf-keras) (2.1.0)\n",
            "Requirement already satisfied: astunparse>=1.6.0 in /environment/miniconda3/lib/python3.11/site-packages (from tensorflow<2.20,>=2.19->tf-keras) (1.6.3)\n",
            "Requirement already satisfied: flatbuffers>=24.3.25 in /environment/miniconda3/lib/python3.11/site-packages (from tensorflow<2.20,>=2.19->tf-keras) (24.3.25)\n",
            "Requirement already satisfied: gast!=0.5.0,!=0.5.1,!=0.5.2,>=0.2.1 in /environment/miniconda3/lib/python3.11/site-packages (from tensorflow<2.20,>=2.19->tf-keras) (0.4.0)\n",
            "Requirement already satisfied: google-pasta>=0.1.1 in /environment/miniconda3/lib/python3.11/site-packages (from tensorflow<2.20,>=2.19->tf-keras) (0.2.0)\n",
            "Requirement already satisfied: libclang>=13.0.0 in /environment/miniconda3/lib/python3.11/site-packages (from tensorflow<2.20,>=2.19->tf-keras) (18.1.1)\n",
            "Requirement already satisfied: opt-einsum>=2.3.2 in /environment/miniconda3/lib/python3.11/site-packages (from tensorflow<2.20,>=2.19->tf-keras) (3.3.0)\n",
            "Requirement already satisfied: packaging in /environment/miniconda3/lib/python3.11/site-packages (from tensorflow<2.20,>=2.19->tf-keras) (23.2)\n",
            "Requirement already satisfied: protobuf!=4.21.0,!=4.21.1,!=4.21.2,!=4.21.3,!=4.21.4,!=4.21.5,<6.0.0dev,>=3.20.3 in /environment/miniconda3/lib/python3.11/site-packages (from tensorflow<2.20,>=2.19->tf-keras) (4.25.3)\n",
            "Requirement already satisfied: requests<3,>=2.21.0 in /environment/miniconda3/lib/python3.11/site-packages (from tensorflow<2.20,>=2.19->tf-keras) (2.32.3)\n",
            "Requirement already satisfied: setuptools in /environment/miniconda3/lib/python3.11/site-packages (from tensorflow<2.20,>=2.19->tf-keras) (68.2.2)\n",
            "Requirement already satisfied: six>=1.12.0 in /environment/miniconda3/lib/python3.11/site-packages (from tensorflow<2.20,>=2.19->tf-keras) (1.16.0)\n",
            "Requirement already satisfied: termcolor>=1.1.0 in /environment/miniconda3/lib/python3.11/site-packages (from tensorflow<2.20,>=2.19->tf-keras) (2.4.0)\n",
            "Requirement already satisfied: typing-extensions>=3.6.6 in /environment/miniconda3/lib/python3.11/site-packages (from tensorflow<2.20,>=2.19->tf-keras) (4.11.0)\n",
            "Requirement already satisfied: wrapt>=1.11.0 in /environment/miniconda3/lib/python3.11/site-packages (from tensorflow<2.20,>=2.19->tf-keras) (1.14.1)\n",
            "Requirement already satisfied: grpcio<2.0,>=1.24.3 in /environment/miniconda3/lib/python3.11/site-packages (from tensorflow<2.20,>=2.19->tf-keras) (1.62.2)\n",
            "Requirement already satisfied: tensorboard~=2.19.0 in /environment/miniconda3/lib/python3.11/site-packages (from tensorflow<2.20,>=2.19->tf-keras) (2.19.0)\n",
            "Requirement already satisfied: keras>=3.5.0 in /environment/miniconda3/lib/python3.11/site-packages (from tensorflow<2.20,>=2.19->tf-keras) (3.9.2)\n",
            "Requirement already satisfied: numpy<2.2.0,>=1.26.0 in /environment/miniconda3/lib/python3.11/site-packages (from tensorflow<2.20,>=2.19->tf-keras) (1.26.4)\n",
            "Requirement already satisfied: h5py>=3.11.0 in /environment/miniconda3/lib/python3.11/site-packages (from tensorflow<2.20,>=2.19->tf-keras) (3.11.0)\n",
            "Requirement already satisfied: ml-dtypes<1.0.0,>=0.5.1 in /environment/miniconda3/lib/python3.11/site-packages (from tensorflow<2.20,>=2.19->tf-keras) (0.5.1)\n",
            "Requirement already satisfied: tensorflow-io-gcs-filesystem>=0.23.1 in /environment/miniconda3/lib/python3.11/site-packages (from tensorflow<2.20,>=2.19->tf-keras) (0.36.0)\n",
            "Requirement already satisfied: wheel<1.0,>=0.23.0 in /environment/miniconda3/lib/python3.11/site-packages (from astunparse>=1.6.0->tensorflow<2.20,>=2.19->tf-keras) (0.41.2)\n",
            "Requirement already satisfied: rich in /environment/miniconda3/lib/python3.11/site-packages (from keras>=3.5.0->tensorflow<2.20,>=2.19->tf-keras) (13.7.1)\n",
            "Requirement already satisfied: namex in /environment/miniconda3/lib/python3.11/site-packages (from keras>=3.5.0->tensorflow<2.20,>=2.19->tf-keras) (0.0.8)\n",
            "Requirement already satisfied: optree in /environment/miniconda3/lib/python3.11/site-packages (from keras>=3.5.0->tensorflow<2.20,>=2.19->tf-keras) (0.11.0)\n",
            "Requirement already satisfied: charset-normalizer<4,>=2 in /environment/miniconda3/lib/python3.11/site-packages (from requests<3,>=2.21.0->tensorflow<2.20,>=2.19->tf-keras) (2.0.4)\n",
            "Requirement already satisfied: idna<4,>=2.5 in /environment/miniconda3/lib/python3.11/site-packages (from requests<3,>=2.21.0->tensorflow<2.20,>=2.19->tf-keras) (3.4)\n",
            "Requirement already satisfied: urllib3<3,>=1.21.1 in /environment/miniconda3/lib/python3.11/site-packages (from requests<3,>=2.21.0->tensorflow<2.20,>=2.19->tf-keras) (2.1.0)\n",
            "Requirement already satisfied: certifi>=2017.4.17 in /environment/miniconda3/lib/python3.11/site-packages (from requests<3,>=2.21.0->tensorflow<2.20,>=2.19->tf-keras) (2024.2.2)\n",
            "Requirement already satisfied: markdown>=2.6.8 in /environment/miniconda3/lib/python3.11/site-packages (from tensorboard~=2.19.0->tensorflow<2.20,>=2.19->tf-keras) (3.6)\n",
            "Requirement already satisfied: tensorboard-data-server<0.8.0,>=0.7.0 in /environment/miniconda3/lib/python3.11/site-packages (from tensorboard~=2.19.0->tensorflow<2.20,>=2.19->tf-keras) (0.7.2)\n",
            "Requirement already satisfied: werkzeug>=1.0.1 in /environment/miniconda3/lib/python3.11/site-packages (from tensorboard~=2.19.0->tensorflow<2.20,>=2.19->tf-keras) (3.0.2)\n",
            "Requirement already satisfied: MarkupSafe>=2.1.1 in /environment/miniconda3/lib/python3.11/site-packages (from werkzeug>=1.0.1->tensorboard~=2.19.0->tensorflow<2.20,>=2.19->tf-keras) (2.1.5)\n",
            "Requirement already satisfied: markdown-it-py>=2.2.0 in /environment/miniconda3/lib/python3.11/site-packages (from rich->keras>=3.5.0->tensorflow<2.20,>=2.19->tf-keras) (3.0.0)\n",
            "Requirement already satisfied: pygments<3.0.0,>=2.13.0 in /environment/miniconda3/lib/python3.11/site-packages (from rich->keras>=3.5.0->tensorflow<2.20,>=2.19->tf-keras) (2.17.2)\n",
            "Requirement already satisfied: mdurl~=0.1 in /environment/miniconda3/lib/python3.11/site-packages (from markdown-it-py>=2.2.0->rich->keras>=3.5.0->tensorflow<2.20,>=2.19->tf-keras) (0.1.2)\n"
          ]
        }
      ],
      "source": [
        "!pip install --upgrade transformers\n",
        "!pip install tf-keras\n",
        "import os\n",
        "os.environ['TF_USE_LEGACY_KERAS'] = '1'"
      ]
    },
    {
      "cell_type": "code",
      "execution_count": null,
      "metadata": {
        "colab": {
          "base_uri": "https://localhost:8080/"
        },
        "id": "PPcYb4GzVpNR",
        "outputId": "effad99f-e047-4ca4-a5a6-6b4384650060"
      },
      "outputs": [
        {
          "name": "stdout",
          "output_type": "stream",
          "text": [
            "2.15.0\n",
            "2.15.0\n"
          ]
        }
      ],
      "source": [
        "import tensorflow as tf\n",
        "import keras\n",
        "\n",
        "print(tf.__version__)\n",
        "print(keras.__version__)"
      ]
    },
    {
      "cell_type": "code",
      "execution_count": null,
      "metadata": {
        "colab": {
          "base_uri": "https://localhost:8080/"
        },
        "id": "hxrFOle1SR_t",
        "outputId": "2584e6d7-8b7f-4e49-f068-23d5fba58f2f",
        "scrolled": true
      },
      "outputs": [
        {
          "name": "stdout",
          "output_type": "stream",
          "text": [
            "Looking in indexes: https://pypi.tuna.tsinghua.edu.cn/simple\n",
            "Requirement already satisfied: datasets in /environment/miniconda3/lib/python3.11/site-packages (3.5.1)\n",
            "Requirement already satisfied: filelock in /environment/miniconda3/lib/python3.11/site-packages (from datasets) (3.13.4)\n",
            "Requirement already satisfied: numpy>=1.17 in /environment/miniconda3/lib/python3.11/site-packages (from datasets) (1.26.4)\n",
            "Requirement already satisfied: pyarrow>=15.0.0 in /environment/miniconda3/lib/python3.11/site-packages (from datasets) (20.0.0)\n",
            "Requirement already satisfied: dill<0.3.9,>=0.3.0 in /environment/miniconda3/lib/python3.11/site-packages (from datasets) (0.3.8)\n",
            "Requirement already satisfied: pandas in /environment/miniconda3/lib/python3.11/site-packages (from datasets) (2.2.2)\n",
            "Requirement already satisfied: requests>=2.32.2 in /environment/miniconda3/lib/python3.11/site-packages (from datasets) (2.32.3)\n",
            "Requirement already satisfied: tqdm>=4.66.3 in /environment/miniconda3/lib/python3.11/site-packages (from datasets) (4.67.1)\n",
            "Requirement already satisfied: xxhash in /environment/miniconda3/lib/python3.11/site-packages (from datasets) (3.5.0)\n",
            "Requirement already satisfied: multiprocess<0.70.17 in /environment/miniconda3/lib/python3.11/site-packages (from datasets) (0.70.16)\n",
            "Requirement already satisfied: fsspec<=2025.3.0,>=2023.1.0 in /environment/miniconda3/lib/python3.11/site-packages (from fsspec[http]<=2025.3.0,>=2023.1.0->datasets) (2024.3.1)\n",
            "Requirement already satisfied: aiohttp in /environment/miniconda3/lib/python3.11/site-packages (from datasets) (3.7.4)\n",
            "Requirement already satisfied: huggingface-hub>=0.24.0 in /environment/miniconda3/lib/python3.11/site-packages (from datasets) (0.30.2)\n",
            "Requirement already satisfied: packaging in /environment/miniconda3/lib/python3.11/site-packages (from datasets) (23.2)\n",
            "Requirement already satisfied: pyyaml>=5.1 in /environment/miniconda3/lib/python3.11/site-packages (from datasets) (6.0.1)\n",
            "Requirement already satisfied: attrs>=17.3.0 in /environment/miniconda3/lib/python3.11/site-packages (from aiohttp->datasets) (23.2.0)\n",
            "Requirement already satisfied: chardet<4.0,>=2.0 in /environment/miniconda3/lib/python3.11/site-packages (from aiohttp->datasets) (3.0.4)\n",
            "Requirement already satisfied: multidict<7.0,>=4.5 in /environment/miniconda3/lib/python3.11/site-packages (from aiohttp->datasets) (6.0.5)\n",
            "Requirement already satisfied: async-timeout<4.0,>=3.0 in /environment/miniconda3/lib/python3.11/site-packages (from aiohttp->datasets) (3.0.1)\n",
            "Requirement already satisfied: yarl<2.0,>=1.0 in /environment/miniconda3/lib/python3.11/site-packages (from aiohttp->datasets) (1.9.4)\n",
            "Requirement already satisfied: typing-extensions>=3.6.5 in /environment/miniconda3/lib/python3.11/site-packages (from aiohttp->datasets) (4.11.0)\n",
            "Requirement already satisfied: charset-normalizer<4,>=2 in /environment/miniconda3/lib/python3.11/site-packages (from requests>=2.32.2->datasets) (2.0.4)\n",
            "Requirement already satisfied: idna<4,>=2.5 in /environment/miniconda3/lib/python3.11/site-packages (from requests>=2.32.2->datasets) (3.4)\n",
            "Requirement already satisfied: urllib3<3,>=1.21.1 in /environment/miniconda3/lib/python3.11/site-packages (from requests>=2.32.2->datasets) (2.1.0)\n",
            "Requirement already satisfied: certifi>=2017.4.17 in /environment/miniconda3/lib/python3.11/site-packages (from requests>=2.32.2->datasets) (2024.2.2)\n",
            "Requirement already satisfied: python-dateutil>=2.8.2 in /environment/miniconda3/lib/python3.11/site-packages (from pandas->datasets) (2.9.0.post0)\n",
            "Requirement already satisfied: pytz>=2020.1 in /environment/miniconda3/lib/python3.11/site-packages (from pandas->datasets) (2024.1)\n",
            "Requirement already satisfied: tzdata>=2022.7 in /environment/miniconda3/lib/python3.11/site-packages (from pandas->datasets) (2024.1)\n",
            "Requirement already satisfied: six>=1.5 in /environment/miniconda3/lib/python3.11/site-packages (from python-dateutil>=2.8.2->pandas->datasets) (1.16.0)\n"
          ]
        }
      ],
      "source": [
        "!pip install datasets"
      ]
    },
    {
      "cell_type": "code",
      "execution_count": null,
      "metadata": {
        "id": "0dskZyJI_lp-",
        "outputId": "8c1ac80a-0a5b-45f6-b24b-5ae1c7bfc7f3"
      },
      "outputs": [
        {
          "name": "stderr",
          "output_type": "stream",
          "text": [
            "/home/featurize/tf_gpu_env/lib/python3.11/site-packages/tqdm/auto.py:21: TqdmWarning: IProgress not found. Please update jupyter and ipywidgets. See https://ipywidgets.readthedocs.io/en/stable/user_install.html\n",
            "  from .autonotebook import tqdm as notebook_tqdm\n"
          ]
        }
      ],
      "source": [
        "import os\n",
        "import datasets\n",
        "import numpy as np\n",
        "import pandas as pd\n",
        "import matplotlib.pyplot as plt\n",
        "import tensorflow as tf\n",
        "import seaborn as sns\n",
        "import random\n",
        "\n",
        "from transformers import AutoTokenizer, TFAutoModelForSequenceClassification\n",
        "from datasets import load_dataset\n",
        "from sklearn.utils.class_weight import compute_class_weight\n",
        "from functools import partial\n",
        "from sklearn.metrics import (\n",
        "    accuracy_score,\n",
        "    confusion_matrix,\n",
        "    classification_report,\n",
        "    precision_score,\n",
        "    recall_score,\n",
        "    f1_score\n",
        ")\n",
        "from tensorflow.keras.callbacks import EarlyStopping\n",
        "from tensorflow.keras import Model, layers\n",
        "from tensorflow.keras import Input, Model, layers"
      ]
    },
    {
      "cell_type": "code",
      "execution_count": null,
      "metadata": {
        "id": "U-nqH3PN_qwh"
      },
      "outputs": [],
      "source": [
        "SEED = 42\n",
        "\n",
        "random.seed(SEED)\n",
        "np.random.seed(SEED)\n",
        "tf.random.set_seed(SEED)\n",
        "os.environ['PYTHONHASHSEED'] = str(SEED)"
      ]
    },
    {
      "cell_type": "code",
      "execution_count": null,
      "metadata": {
        "id": "d1O3KdED_yxB"
      },
      "outputs": [],
      "source": [
        "dataset_dict = load_dataset(\n",
        "    \"financial_phrasebank\",\n",
        "    \"sentences_allagree\",\n",
        "    trust_remote_code=True\n",
        ")"
      ]
    },
    {
      "cell_type": "code",
      "execution_count": null,
      "metadata": {
        "id": "_kLw8lZZl_AW"
      },
      "outputs": [],
      "source": [
        "dataset_train = dataset_dict[\"train\"]"
      ]
    },
    {
      "cell_type": "code",
      "execution_count": null,
      "metadata": {
        "id": "K13hyuJamEKi"
      },
      "outputs": [],
      "source": [
        "df = dataset_train.to_pandas()"
      ]
    },
    {
      "cell_type": "code",
      "execution_count": null,
      "metadata": {
        "colab": {
          "base_uri": "https://localhost:8080/"
        },
        "id": "zUn-0Bu2S9Nj",
        "outputId": "45c253a9-2676-455b-fa6f-384fb4550686",
        "scrolled": true
      },
      "outputs": [
        {
          "name": "stderr",
          "output_type": "stream",
          "text": [
            "2025-05-03 20:23:07.330703: I external/local_xla/xla/stream_executor/cuda/cuda_executor.cc:901] successful NUMA node read from SysFS had negative value (-1), but there must be at least one NUMA node, so returning NUMA node zero. See more at https://github.com/torvalds/linux/blob/v6.0/Documentation/ABI/testing/sysfs-bus-pci#L344-L355\n",
            "2025-05-03 20:23:07.380205: I external/local_xla/xla/stream_executor/cuda/cuda_executor.cc:901] successful NUMA node read from SysFS had negative value (-1), but there must be at least one NUMA node, so returning NUMA node zero. See more at https://github.com/torvalds/linux/blob/v6.0/Documentation/ABI/testing/sysfs-bus-pci#L344-L355\n",
            "2025-05-03 20:23:07.381679: I external/local_xla/xla/stream_executor/cuda/cuda_executor.cc:901] successful NUMA node read from SysFS had negative value (-1), but there must be at least one NUMA node, so returning NUMA node zero. See more at https://github.com/torvalds/linux/blob/v6.0/Documentation/ABI/testing/sysfs-bus-pci#L344-L355\n",
            "2025-05-03 20:23:07.385263: I external/local_xla/xla/stream_executor/cuda/cuda_executor.cc:901] successful NUMA node read from SysFS had negative value (-1), but there must be at least one NUMA node, so returning NUMA node zero. See more at https://github.com/torvalds/linux/blob/v6.0/Documentation/ABI/testing/sysfs-bus-pci#L344-L355\n",
            "2025-05-03 20:23:07.386561: I external/local_xla/xla/stream_executor/cuda/cuda_executor.cc:901] successful NUMA node read from SysFS had negative value (-1), but there must be at least one NUMA node, so returning NUMA node zero. See more at https://github.com/torvalds/linux/blob/v6.0/Documentation/ABI/testing/sysfs-bus-pci#L344-L355\n",
            "2025-05-03 20:23:07.387846: I external/local_xla/xla/stream_executor/cuda/cuda_executor.cc:901] successful NUMA node read from SysFS had negative value (-1), but there must be at least one NUMA node, so returning NUMA node zero. See more at https://github.com/torvalds/linux/blob/v6.0/Documentation/ABI/testing/sysfs-bus-pci#L344-L355\n",
            "2025-05-03 20:23:07.498126: I external/local_xla/xla/stream_executor/cuda/cuda_executor.cc:901] successful NUMA node read from SysFS had negative value (-1), but there must be at least one NUMA node, so returning NUMA node zero. See more at https://github.com/torvalds/linux/blob/v6.0/Documentation/ABI/testing/sysfs-bus-pci#L344-L355\n",
            "2025-05-03 20:23:07.499212: I external/local_xla/xla/stream_executor/cuda/cuda_executor.cc:901] successful NUMA node read from SysFS had negative value (-1), but there must be at least one NUMA node, so returning NUMA node zero. See more at https://github.com/torvalds/linux/blob/v6.0/Documentation/ABI/testing/sysfs-bus-pci#L344-L355\n",
            "2025-05-03 20:23:07.500087: W tensorflow/core/common_runtime/gpu/gpu_bfc_allocator.cc:47] Overriding orig_value setting because the TF_FORCE_GPU_ALLOW_GROWTH environment variable is set. Original config value was 0.\n",
            "2025-05-03 20:23:07.500141: I external/local_xla/xla/stream_executor/cuda/cuda_executor.cc:901] successful NUMA node read from SysFS had negative value (-1), but there must be at least one NUMA node, so returning NUMA node zero. See more at https://github.com/torvalds/linux/blob/v6.0/Documentation/ABI/testing/sysfs-bus-pci#L344-L355\n",
            "2025-05-03 20:23:07.501040: I tensorflow/core/common_runtime/gpu/gpu_device.cc:1929] Created device /job:localhost/replica:0/task:0/device:GPU:0 with 2807 MB memory:  -> device: 0, name: NVIDIA GeForce RTX 4090, pci bus id: 0000:10:00.0, compute capability: 8.9\n",
            "Some weights of the PyTorch model were not used when initializing the TF 2.0 model TFDistilBertForSequenceClassification: ['vocab_layer_norm.weight', 'vocab_layer_norm.bias', 'vocab_transform.weight', 'vocab_transform.bias', 'vocab_projector.bias']\n",
            "- This IS expected if you are initializing TFDistilBertForSequenceClassification from a PyTorch model trained on another task or with another architecture (e.g. initializing a TFBertForSequenceClassification model from a BertForPreTraining model).\n",
            "- This IS NOT expected if you are initializing TFDistilBertForSequenceClassification from a PyTorch model that you expect to be exactly identical (e.g. initializing a TFBertForSequenceClassification model from a BertForSequenceClassification model).\n",
            "Some weights or buffers of the TF 2.0 model TFDistilBertForSequenceClassification were not initialized from the PyTorch model and are newly initialized: ['pre_classifier.weight', 'pre_classifier.bias', 'classifier.weight', 'classifier.bias']\n",
            "You should probably TRAIN this model on a down-stream task to be able to use it for predictions and inference.\n"
          ]
        }
      ],
      "source": [
        "model_name_distilbert_base_uncased = \"distilbert-base-uncased\"\n",
        "tokenizer_distilbert_base_uncased = AutoTokenizer.from_pretrained(model_name_distilbert_base_uncased)\n",
        "model_distilbert_base_uncased = TFAutoModelForSequenceClassification.from_pretrained(model_name_distilbert_base_uncased, num_labels=3)"
      ]
    },
    {
      "cell_type": "code",
      "execution_count": null,
      "metadata": {
        "id": "s9iq9EMYStrR"
      },
      "outputs": [],
      "source": [
        "MAX_LEN = 64\n",
        "BATCH_SIZE = 32\n",
        "val_ratio = 0.15\n",
        "test_ratio = 0.15\n",
        "val_size = int(len(df) * val_ratio)\n",
        "test_size = int(len(df) * test_ratio)\n",
        "train_size = len(df) - val_size - test_size\n",
        "texts = df['sentence'].tolist()\n",
        "labels = df['label'].tolist()"
      ]
    },
    {
      "cell_type": "code",
      "execution_count": null,
      "metadata": {
        "id": "c-0TMEJ1mMLS"
      },
      "outputs": [],
      "source": [
        "encodings_distilbert_base_uncased = tokenizer_distilbert_base_uncased(\n",
        "    texts, truncation=True, padding=True, max_length=MAX_LEN, return_tensors='tf'\n",
        ")\n",
        "\n",
        "dataset_distilbert_base_uncased = tf.data.Dataset.from_tensor_slices((\n",
        "    dict(encodings_distilbert_base_uncased),\n",
        "    tf.convert_to_tensor(labels)\n",
        ")).shuffle(len(df), seed=42)\n",
        "\n",
        "train_dataset_distilbert_base_uncased = dataset_distilbert_base_uncased.take(train_size).batch(BATCH_SIZE)\n",
        "val_dataset_distilbert_base_uncased = dataset_distilbert_base_uncased.skip(train_size).take(val_size).batch(BATCH_SIZE)\n",
        "test_dataset_distilbert_base_uncased = dataset_distilbert_base_uncased.skip(train_size + val_size).batch(BATCH_SIZE)"
      ]
    },
    {
      "cell_type": "code",
      "execution_count": null,
      "metadata": {
        "id": "YQXf7WXDS462"
      },
      "outputs": [],
      "source": [
        "train_labels_distilbert = []\n",
        "for _, label in train_dataset_distilbert_base_uncased.unbatch():\n",
        "    train_labels_distilbert.append(label.numpy())\n",
        "\n",
        "class_weights_distilbert = compute_class_weight(\n",
        "    class_weight='balanced',\n",
        "    classes=np.unique(train_labels_distilbert),\n",
        "    y=train_labels_distilbert\n",
        ")\n",
        "class_weight_distilbert = dict(enumerate(class_weights_distilbert))"
      ]
    },
    {
      "cell_type": "code",
      "execution_count": null,
      "metadata": {
        "id": "Ky1cB5IrmSW2"
      },
      "outputs": [],
      "source": [
        "for layer in model_distilbert_base_uncased.layers:\n",
        "    if 'distilbert' in layer.name:\n",
        "        layer.trainable = False\n",
        "    else:\n",
        "        layer.trainable = True"
      ]
    },
    {
      "cell_type": "code",
      "execution_count": null,
      "metadata": {
        "colab": {
          "base_uri": "https://localhost:8080/"
        },
        "id": "OaHZs5tXmX7m",
        "outputId": "4d192de3-1e86-4657-da72-d397027c5891"
      },
      "outputs": [
        {
          "name": "stdout",
          "output_type": "stream",
          "text": [
            "Epoch 1/5\n"
          ]
        },
        {
          "name": "stderr",
          "output_type": "stream",
          "text": [
            "2025-05-03 20:23:16.089688: I external/local_xla/xla/service/service.cc:168] XLA service 0x7fb77a8b03e0 initialized for platform CUDA (this does not guarantee that XLA will be used). Devices:\n",
            "2025-05-03 20:23:16.089730: I external/local_xla/xla/service/service.cc:176]   StreamExecutor device (0): NVIDIA GeForce RTX 4090, Compute Capability 8.9\n",
            "2025-05-03 20:23:16.096549: I tensorflow/compiler/mlir/tensorflow/utils/dump_mlir_util.cc:269] disabling MLIR crash reproducer, set env var `MLIR_CRASH_REPRODUCER_DIRECTORY` to enable.\n",
            "2025-05-03 20:23:16.115848: I external/local_xla/xla/stream_executor/cuda/cuda_dnn.cc:454] Loaded cuDNN version 8907\n",
            "WARNING: All log messages before absl::InitializeLog() is called are written to STDERR\n",
            "I0000 00:00:1746303796.159062  325463 device_compiler.h:186] Compiled cluster using XLA!  This line is logged at most once for the lifetime of the process.\n"
          ]
        },
        {
          "name": "stdout",
          "output_type": "stream",
          "text": [
            "50/50 [==============================] - 9s 46ms/step - loss: 0.8160 - accuracy: 0.6564 - val_loss: 0.7474 - val_accuracy: 0.6932\n",
            "Epoch 2/5\n",
            "50/50 [==============================] - 1s 26ms/step - loss: 0.5942 - accuracy: 0.7629 - val_loss: 0.4148 - val_accuracy: 0.8171\n",
            "Epoch 3/5\n",
            "50/50 [==============================] - 1s 26ms/step - loss: 0.5494 - accuracy: 0.7913 - val_loss: 0.3535 - val_accuracy: 0.8584\n",
            "Epoch 4/5\n",
            "50/50 [==============================] - 1s 26ms/step - loss: 0.5242 - accuracy: 0.8102 - val_loss: 0.4503 - val_accuracy: 0.7906\n",
            "Epoch 5/5\n",
            "50/50 [==============================] - 1s 26ms/step - loss: 0.4698 - accuracy: 0.8235 - val_loss: 0.3831 - val_accuracy: 0.8260\n"
          ]
        },
        {
          "data": {
            "text/plain": [
              "<keras.src.callbacks.History at 0x7fb9c83c3150>"
            ]
          },
          "execution_count": 18,
          "metadata": {},
          "output_type": "execute_result"
        }
      ],
      "source": [
        "model_distilbert_base_uncased.compile(metrics=['accuracy'])\n",
        "model_distilbert_base_uncased.fit(train_dataset_distilbert_base_uncased, validation_data=val_dataset_distilbert_base_uncased,\n",
        "                                  epochs=5,class_weight=class_weight_distilbert)"
      ]
    },
    {
      "cell_type": "code",
      "execution_count": null,
      "metadata": {
        "id": "P2LrZSEymmcA"
      },
      "outputs": [],
      "source": [
        "model_distilbert_base_uncased.save_pretrained(\"exp1_checkpoint\")"
      ]
    },
    {
      "cell_type": "markdown",
      "source": [
        "- ### Chapter 5: Fine-tuning a pre-trained model using LoRA （part2）\n",
        "- #### 5.1 Method Description\n",
        "- #### 5.2 Method Implementation\n",
        "- #### 5.3 Evaluation\n",
        "- ### Chapter 6 In-Depth Exploration of LoRA Fine-Tuning Techniques （part2）"
      ],
      "metadata": {
        "id": "XlXpvlWP_jxT"
      }
    },
    {
      "cell_type": "markdown",
      "source": [
        "### Chapter 5: Fine-tuning a pre-trained model using LoRA （part2）\n",
        "This chapter focuses on applying Low-Rank Adaptation (LoRA) to fine-tune a pre-trained language model in an efficient and parameter-efficient manner. We begin with a detailed description of the LoRA methodology, explaining how it enables adaptation with minimal weight updates. The implementation section covers practical steps for integrating LoRA into the fine-tuning pipeline. Finally, we evaluate the performance of the LoRA-tuned model, comparing its results to conventional fine-tuning approaches to assess its effectiveness and efficiency."
      ],
      "metadata": {
        "id": "05owKW1B_km8"
      }
    },
    {
      "cell_type": "markdown",
      "source": [
        "#### 5.1 Method Description\n",
        "LoRA (Low-Rank Adaptation) is a lightweight fine-tuning method that reduces the number of trainable parameters by adding two small low-rank matrices to existing weight layers, instead of updating the full model.\n",
        "\n",
        "In practice, LoRA keeps the original model weights frozen and only trains the newly added matrices. This approach is memory-efficient and maintains strong performance, making it ideal for adapting large language models in resource-constrained settings."
      ],
      "metadata": {
        "id": "kDyuzkOW_pSZ"
      }
    },
    {
      "cell_type": "markdown",
      "source": [
        "#### 5.2 Method Implementation\n",
        "In this section, we integrate LoRA (Low-Rank Adaptation) into a DistilBERT model for sequence classification using TensorFlow. We begin by defining a custom LoRADense layer, which wraps an existing dense layer and injects two trainable low-rank matrices—lora_A and lora_B—to capture task-specific updates. The original weights remain frozen to reduce training costs.\n",
        "\n",
        "We initialize the model from a checkpoint and replace the feed-forward layers (ffn.lin1 and ffn.lin2) in each transformer block with our LoRADense layer. To further limit parameter updates, we freeze the embeddings and attention components, training only the LoRA parameters.\n",
        "\n",
        "Finally, we compile the model using sparse categorical cross-entropy and train it for 5 epochs. During training, only LoRA-related parameters are updated, as confirmed by the model summary which shows zero trainable parameters in the base model."
      ],
      "metadata": {
        "id": "4v6lDZLO_uJ9"
      }
    },
    {
      "cell_type": "code",
      "execution_count": null,
      "metadata": {
        "colab": {
          "base_uri": "https://localhost:8080/"
        },
        "id": "slFaZgKVmoq-",
        "outputId": "1768b52c-cda7-4ec6-f7b9-8c146da7ec0a"
      },
      "outputs": [
        {
          "name": "stderr",
          "output_type": "stream",
          "text": [
            "Some layers from the model checkpoint at exp1_checkpoint were not used when initializing TFDistilBertForSequenceClassification: ['dropout_19']\n",
            "- This IS expected if you are initializing TFDistilBertForSequenceClassification from the checkpoint of a model trained on another task or with another architecture (e.g. initializing a BertForSequenceClassification model from a BertForPreTraining model).\n",
            "- This IS NOT expected if you are initializing TFDistilBertForSequenceClassification from the checkpoint of a model that you expect to be exactly identical (initializing a BertForSequenceClassification model from a BertForSequenceClassification model).\n",
            "Some layers of TFDistilBertForSequenceClassification were not initialized from the model checkpoint at exp1_checkpoint and are newly initialized: ['dropout_39']\n",
            "You should probably TRAIN this model on a down-stream task to be able to use it for predictions and inference.\n"
          ]
        }
      ],
      "source": [
        "model = TFAutoModelForSequenceClassification.from_pretrained(\"exp1_checkpoint\")"
      ]
    },
    {
      "cell_type": "code",
      "execution_count": null,
      "metadata": {
        "id": "9LoWh_NHS__p"
      },
      "outputs": [],
      "source": [
        "class LoRADense(tf.keras.layers.Layer):\n",
        "    def __init__(self, orig_layer, r=8, alpha=32, **kwargs):\n",
        "        super().__init__(**kwargs)\n",
        "\n",
        "        self.orig_layer = orig_layer\n",
        "        self.r = r\n",
        "        self.alpha = alpha\n",
        "        self.orig_layer.trainable = False  # Freeze original dense\n",
        "\n",
        "    def build(self, input_shape):\n",
        "        self.orig_layer.build(input_shape)\n",
        "        in_dim = int(input_shape[-1])\n",
        "        out_dim = int(self.orig_layer.units)\n",
        "\n",
        "        self.lora_A = self.add_weight(\n",
        "            shape=(in_dim, self.r),\n",
        "            initializer=\"random_normal\",\n",
        "            trainable=True,\n",
        "            name=self.name + \"_A\"\n",
        "        )\n",
        "        self.lora_B = self.add_weight(\n",
        "            shape=(self.r, out_dim),\n",
        "            initializer=\"zeros\",\n",
        "            trainable=True,\n",
        "            name=self.name + \"_B\"\n",
        "        )\n",
        "        self.scaling = self.alpha / self.r\n",
        "\n",
        "    def call(self, inputs):\n",
        "        orig = self.orig_layer(inputs)\n",
        "        delta = tf.matmul(tf.matmul(inputs, self.lora_A), self.lora_B) * self.scaling\n",
        "        return orig + delta"
      ]
    },
    {
      "cell_type": "code",
      "execution_count": null,
      "metadata": {
        "colab": {
          "base_uri": "https://localhost:8080/"
        },
        "id": "41KOgE78TEx5",
        "outputId": "3e2c9a51-825c-45ef-ec15-b79a56afa53f",
        "scrolled": true
      },
      "outputs": [
        {
          "data": {
            "text/plain": [
              "DistilBertConfig {\n",
              "  \"activation\": \"gelu\",\n",
              "  \"architectures\": [\n",
              "    \"DistilBertForSequenceClassification\"\n",
              "  ],\n",
              "  \"attention_dropout\": 0.1,\n",
              "  \"dim\": 768,\n",
              "  \"dropout\": 0.1,\n",
              "  \"hidden_dim\": 3072,\n",
              "  \"id2label\": {\n",
              "    \"0\": \"LABEL_0\",\n",
              "    \"1\": \"LABEL_1\",\n",
              "    \"2\": \"LABEL_2\"\n",
              "  },\n",
              "  \"initializer_range\": 0.02,\n",
              "  \"label2id\": {\n",
              "    \"LABEL_0\": 0,\n",
              "    \"LABEL_1\": 1,\n",
              "    \"LABEL_2\": 2\n",
              "  },\n",
              "  \"max_position_embeddings\": 512,\n",
              "  \"model_type\": \"distilbert\",\n",
              "  \"n_heads\": 12,\n",
              "  \"n_layers\": 6,\n",
              "  \"pad_token_id\": 0,\n",
              "  \"qa_dropout\": 0.1,\n",
              "  \"seq_classif_dropout\": 0.2,\n",
              "  \"sinusoidal_pos_embds\": false,\n",
              "  \"tie_weights_\": true,\n",
              "  \"transformers_version\": \"4.51.3\",\n",
              "  \"vocab_size\": 30522\n",
              "}"
            ]
          },
          "execution_count": 22,
          "metadata": {},
          "output_type": "execute_result"
        }
      ],
      "source": [
        "model.config"
      ]
    },
    {
      "cell_type": "code",
      "execution_count": null,
      "metadata": {
        "id": "ilII7tzMTK_0"
      },
      "outputs": [],
      "source": [
        "model.distilbert.embeddings.trainable = False\n",
        "\n",
        "for i, layer in enumerate(model.distilbert.transformer.layer):\n",
        "    layer.ffn.lin1 = LoRADense(layer.ffn.lin1, name=f\"lora_lin1_{i}\")\n",
        "    layer.ffn.lin2 = LoRADense(layer.ffn.lin2, name=f\"lora_lin2_{i}\")\n",
        "\n",
        "for i in range(model.config.n_layers):\n",
        "    block = model.distilbert.transformer.layer[i]\n",
        "    block.attention.trainable = False\n",
        "    block.sa_layer_norm.trainable = False\n",
        "    block.output_layer_norm.trainable = False\n",
        "\n",
        "model.pre_classifier.trainable = False\n",
        "model.classifier.trainable = False"
      ]
    },
    {
      "cell_type": "code",
      "execution_count": null,
      "metadata": {
        "id": "6gpNz46ijNZE"
      },
      "outputs": [],
      "source": [
        "model.compile(\n",
        "    loss=tf.keras.losses.SparseCategoricalCrossentropy(from_logits=True),\n",
        "    metrics   = [\"accuracy\"]\n",
        ")"
      ]
    },
    {
      "cell_type": "code",
      "execution_count": null,
      "metadata": {
        "colab": {
          "base_uri": "https://localhost:8080/"
        },
        "id": "RhyDzBKAjNZE",
        "outputId": "a0b3e291-50b5-4b76-f954-c0097cb5b9db"
      },
      "outputs": [
        {
          "name": "stdout",
          "output_type": "stream",
          "text": [
            "Epoch 1/5\n"
          ]
        },
        {
          "name": "stderr",
          "output_type": "stream",
          "text": [
            "/home/featurize/tf_gpu_env/lib/python3.11/site-packages/keras/src/initializers/initializers.py:120: UserWarning: The initializer TruncatedNormal is unseeded and being called multiple times, which will return identical values each time (even if the initializer is unseeded). Please update your code to provide a seed to the initializer, or avoid using the same initializer instance more than once.\n",
            "  warnings.warn(\n"
          ]
        },
        {
          "name": "stdout",
          "output_type": "stream",
          "text": [
            "50/50 [==============================] - 9s 66ms/step - loss: 2.4155 - accuracy: 0.3436 - val_loss: 0.8741 - val_accuracy: 0.6313\n",
            "Epoch 2/5\n",
            "50/50 [==============================] - 2s 38ms/step - loss: 1.2145 - accuracy: 0.4723 - val_loss: 1.1180 - val_accuracy: 0.2271\n",
            "Epoch 3/5\n",
            "50/50 [==============================] - 2s 38ms/step - loss: 1.2639 - accuracy: 0.4275 - val_loss: 1.1098 - val_accuracy: 0.1445\n",
            "Epoch 4/5\n",
            "50/50 [==============================] - 2s 38ms/step - loss: 1.1063 - accuracy: 0.4206 - val_loss: 1.0237 - val_accuracy: 0.6254\n",
            "Epoch 5/5\n",
            "50/50 [==============================] - 2s 38ms/step - loss: 1.1312 - accuracy: 0.3209 - val_loss: 1.1357 - val_accuracy: 0.2743\n"
          ]
        }
      ],
      "source": [
        "history = model.fit(\n",
        "    train_dataset_distilbert_base_uncased, validation_data=val_dataset_distilbert_base_uncased,\n",
        "                                  epochs=5,class_weight=class_weight_distilbert\n",
        ")"
      ]
    },
    {
      "cell_type": "code",
      "execution_count": null,
      "metadata": {
        "colab": {
          "base_uri": "https://localhost:8080/"
        },
        "id": "nIP4RNnBjNZE",
        "outputId": "6000e941-78a7-4473-88f9-b98e51c28c6e"
      },
      "outputs": [
        {
          "name": "stdout",
          "output_type": "stream",
          "text": [
            "Model: \"tf_distil_bert_for_sequence_classification_1\"\n",
            "_________________________________________________________________\n",
            " Layer (type)                Output Shape              Param #   \n",
            "=================================================================\n",
            " distilbert (TFDistilBertMa  multiple                  66731520  \n",
            " inLayer)                                                        \n",
            "                                                                 \n",
            " pre_classifier (Dense)      multiple                  590592    \n",
            "                                                                 \n",
            " classifier (Dense)          multiple                  2307      \n",
            "                                                                 \n",
            " dropout_39 (Dropout)        multiple                  0         \n",
            "                                                                 \n",
            "=================================================================\n",
            "Total params: 67324419 (256.82 MB)\n",
            "Trainable params: 368640 (1.41 MB)\n",
            "Non-trainable params: 66955779 (255.42 MB)\n",
            "_________________________________________________________________\n"
          ]
        }
      ],
      "source": [
        "model.summary()"
      ]
    },
    {
      "cell_type": "code",
      "source": [
        "r = 8\n",
        "d_model = model.config.dim\n",
        "d_model_output = model.config.hidden_dim\n",
        "params_per_adapter = r * (d_model + d_model_output)\n",
        "params_per_ffn_block = 2 * params_per_adapter\n",
        "params_per_ffn_block"
      ],
      "metadata": {
        "id": "sT4dx6S2BED7"
      },
      "execution_count": null,
      "outputs": []
    },
    {
      "cell_type": "code",
      "source": [
        "print(\"How many LoRA parameters for each FFN block: \",params_per_ffn_block)"
      ],
      "metadata": {
        "colab": {
          "base_uri": "https://localhost:8080/"
        },
        "id": "-puF3ATAA546",
        "outputId": "82da751b-d19a-4052-8d6a-8934538a39fa"
      },
      "execution_count": 2,
      "outputs": [
        {
          "output_type": "stream",
          "name": "stdout",
          "text": [
            "How many LoRA parameters for each FFN block:  61440\n"
          ]
        }
      ]
    },
    {
      "cell_type": "code",
      "source": [
        "num_ffn_blocks = model.config.n_layers\n",
        "added_total = num_ffn_blocks * params_per_ffn_block"
      ],
      "metadata": {
        "id": "2lF7JIgABFcv"
      },
      "execution_count": null,
      "outputs": []
    },
    {
      "cell_type": "code",
      "source": [
        "print(\"How many LoRA parameters total (number of FFN blocks times the LoRA parameters per block): \",added_total)"
      ],
      "metadata": {
        "colab": {
          "base_uri": "https://localhost:8080/"
        },
        "id": "1BaPfh79BFkj",
        "outputId": "c049a153-f9fc-4f06-f88e-ace8570c35e3"
      },
      "execution_count": 3,
      "outputs": [
        {
          "output_type": "stream",
          "name": "stdout",
          "text": [
            "How many LoRA parameters total (number of FFN blocks times the LoRA parameters per block): 368640\n"
          ]
        }
      ]
    },
    {
      "cell_type": "code",
      "source": [
        "trainable_params = sum([np.prod(v.shape) for v in model.trainable_variables])"
      ],
      "metadata": {
        "id": "_u1f6opaBFos"
      },
      "execution_count": 6,
      "outputs": []
    },
    {
      "cell_type": "code",
      "source": [
        "print(\"How many *trainable* parameters in your model: \",trainable_params)"
      ],
      "metadata": {
        "colab": {
          "base_uri": "https://localhost:8080/"
        },
        "id": "fvQHGRS5BWpQ",
        "outputId": "7f6f8bec-8534-4425-bf34-25aaabd53569"
      },
      "execution_count": 7,
      "outputs": [
        {
          "output_type": "stream",
          "name": "stdout",
          "text": [
            "How many *trainable* parameters in your model:  368640\n"
          ]
        }
      ]
    },
    {
      "cell_type": "code",
      "source": [
        "total_params = model.count_params()"
      ],
      "metadata": {
        "id": "n7b3wl-LBWtp"
      },
      "execution_count": null,
      "outputs": []
    },
    {
      "cell_type": "code",
      "source": [
        "print(\"How many total parameters in your model: \",total_params)"
      ],
      "metadata": {
        "colab": {
          "base_uri": "https://localhost:8080/"
        },
        "id": "gV1xWdxRBFtQ",
        "outputId": "81880771-09f3-4a42-b812-896dad9beb7e"
      },
      "execution_count": 8,
      "outputs": [
        {
          "output_type": "stream",
          "name": "stdout",
          "text": [
            "How many *total* parameters in your model: 67324419\n"
          ]
        }
      ]
    },
    {
      "cell_type": "code",
      "source": [
        "added_parms_calc = (768*8 + 8*3072)*2*6\n",
        "assert(added_total == added_parms_calc)"
      ],
      "metadata": {
        "id": "IcqxOACkBFxR"
      },
      "execution_count": null,
      "outputs": []
    },
    {
      "cell_type": "markdown",
      "source": [
        "#### 5.3 Evaluation"
      ],
      "metadata": {
        "id": "GQeDoT9QB_rQ"
      }
    },
    {
      "cell_type": "code",
      "execution_count": null,
      "metadata": {
        "colab": {
          "base_uri": "https://localhost:8080/",
          "height": 666
        },
        "id": "sfiYNkKxjNZF",
        "outputId": "bc9c7626-e033-41de-b462-bdcdb73fee1e"
      },
      "outputs": [
        {
          "name": "stdout",
          "output_type": "stream",
          "text": [
            "              precision    recall  f1-score   support\n",
            "\n",
            "           0     0.0000    0.0000    0.0000        44\n",
            "           1     0.0000    0.0000    0.0000       206\n",
            "           2     0.2625    1.0000    0.4159        89\n",
            "\n",
            "    accuracy                         0.2625       339\n",
            "   macro avg     0.0875    0.3333    0.1386       339\n",
            "weighted avg     0.0689    0.2625    0.1092       339\n",
            "\n"
          ]
        },
        {
          "name": "stderr",
          "output_type": "stream",
          "text": [
            "/home/featurize/tf_gpu_env/lib/python3.11/site-packages/sklearn/metrics/_classification.py:1565: UndefinedMetricWarning: Precision is ill-defined and being set to 0.0 in labels with no predicted samples. Use `zero_division` parameter to control this behavior.\n",
            "  _warn_prf(average, modifier, f\"{metric.capitalize()} is\", len(result))\n",
            "/home/featurize/tf_gpu_env/lib/python3.11/site-packages/sklearn/metrics/_classification.py:1565: UndefinedMetricWarning: Precision is ill-defined and being set to 0.0 in labels with no predicted samples. Use `zero_division` parameter to control this behavior.\n",
            "  _warn_prf(average, modifier, f\"{metric.capitalize()} is\", len(result))\n",
            "/home/featurize/tf_gpu_env/lib/python3.11/site-packages/sklearn/metrics/_classification.py:1565: UndefinedMetricWarning: Precision is ill-defined and being set to 0.0 in labels with no predicted samples. Use `zero_division` parameter to control this behavior.\n",
            "  _warn_prf(average, modifier, f\"{metric.capitalize()} is\", len(result))\n"
          ]
        },
        {
          "data": {
            "image/png": "[encoded data removed]",
            "text/plain": [
              "<Figure size 600x500 with 1 Axes>"
            ]
          },
          "metadata": {},
          "output_type": "display_data"
        }
      ],
      "source": [
        "y_pred = []\n",
        "y_true = []\n",
        "for x, label in test_dataset_distilbert_base_uncased.unbatch():\n",
        "    logits = model(x).logits\n",
        "    y_pred.append(np.argmax(logits))\n",
        "    y_true.append(label.numpy())\n",
        "\n",
        "y_true = np.array(y_true)\n",
        "\n",
        "print(classification_report(y_true, y_pred, digits=4))\n",
        "\n",
        "cm = confusion_matrix(y_true, y_pred)\n",
        "plt.figure(figsize=(6, 5))\n",
        "sns.heatmap(cm, annot=True, fmt='d', cmap='Blues', cbar=False)\n",
        "plt.xlabel('Predicted Label')\n",
        "plt.ylabel('True Label')\n",
        "plt.title('Confusion Matrix')\n",
        "plt.show()"
      ]
    },
    {
      "cell_type": "markdown",
      "source": [
        "The model's classification performance is notably poor. It achieves an accuracy of only 26.25%, which is significantly below the random guess level for a three-class task (approximately 33.33%). As shown in the confusion matrix, none of the instances from classes 0 or 1 were correctly predicted—all predictions were assigned to class 2."
      ],
      "metadata": {
        "id": "Mmcl1-wkIGGf"
      }
    },
    {
      "cell_type": "markdown",
      "source": [
        "***How does the performance of the model fine-tuned with LoRA compare to that of the pre-trained (not fine-tuned) model?***\n",
        "\n",
        "The LoRA fine-tuned model performs worse than the original pre-trained model. While the pre-trained model shows moderate accuracy by leveraging general representations, the LoRA variant—especially at low ranks—tends to overfit or collapse into predicting dominant classes, resulting in degraded performance metrics (e.g., macro F1 < 0.2 in some cases).\n",
        "\n",
        "***How does the performance of the model fine-tuned with LoRA compare to that of the model fine-tuned using the conventional approach?***\n",
        "\n",
        "Compared to full-parameter fine-tuning, the LoRA-tuned model also performs worse overall. The conventional fine-tuned model achieves higher accuracy, better recall across all classes, and more balanced predictions, as seen in the confusion matrix and classification report. In contrast, the LoRA model struggles to generalize, especially on minority classes."
      ],
      "metadata": {
        "id": "1wVSdHsbKCNG"
      }
    },
    {
      "cell_type": "markdown",
      "source": [
        "### Chapter 6 In-Depth Exploration of LoRA Fine-Tuning Techniques （part2）"
      ],
      "metadata": {
        "id": "J_DSKCBYIIZr"
      }
    },
    {
      "cell_type": "code",
      "execution_count": null,
      "metadata": {
        "colab": {
          "base_uri": "https://localhost:8080/",
          "height": 527
        },
        "id": "4HhzsBDajNZF",
        "outputId": "33a0bf17-6b42-476e-9012-54514179c761",
        "scrolled": true
      },
      "outputs": [
        {
          "name": "stderr",
          "output_type": "stream",
          "text": [
            "Some layers from the model checkpoint at exp1_checkpoint were not used when initializing TFDistilBertForSequenceClassification: ['dropout_19']\n",
            "- This IS expected if you are initializing TFDistilBertForSequenceClassification from the checkpoint of a model trained on another task or with another architecture (e.g. initializing a BertForSequenceClassification model from a BertForPreTraining model).\n",
            "- This IS NOT expected if you are initializing TFDistilBertForSequenceClassification from the checkpoint of a model that you expect to be exactly identical (initializing a BertForSequenceClassification model from a BertForSequenceClassification model).\n",
            "Some layers of TFDistilBertForSequenceClassification were not initialized from the model checkpoint at exp1_checkpoint and are newly initialized: ['dropout_59']\n",
            "You should probably TRAIN this model on a down-stream task to be able to use it for predictions and inference.\n"
          ]
        },
        {
          "name": "stdout",
          "output_type": "stream",
          "text": [
            "Epoch 1/5\n"
          ]
        },
        {
          "name": "stderr",
          "output_type": "stream",
          "text": [
            "/home/featurize/tf_gpu_env/lib/python3.11/site-packages/keras/src/initializers/initializers.py:120: UserWarning: The initializer TruncatedNormal is unseeded and being called multiple times, which will return identical values each time (even if the initializer is unseeded). Please update your code to provide a seed to the initializer, or avoid using the same initializer instance more than once.\n",
            "  warnings.warn(\n"
          ]
        },
        {
          "name": "stdout",
          "output_type": "stream",
          "text": [
            "50/50 [==============================] - 8s 59ms/step - loss: 2.6405 - accuracy: 0.3310 - val_loss: 1.4801 - val_accuracy: 0.1298\n",
            "Epoch 2/5\n",
            "50/50 [==============================] - 2s 39ms/step - loss: 1.1773 - accuracy: 0.3878 - val_loss: 1.2885 - val_accuracy: 0.1150\n",
            "Epoch 3/5\n",
            "50/50 [==============================] - 2s 38ms/step - loss: 1.1151 - accuracy: 0.3436 - val_loss: 1.0416 - val_accuracy: 0.6136\n",
            "Epoch 4/5\n",
            "50/50 [==============================] - 2s 38ms/step - loss: 1.1295 - accuracy: 0.3638 - val_loss: 1.1282 - val_accuracy: 0.2507\n",
            "Epoch 5/5\n",
            "50/50 [==============================] - 2s 38ms/step - loss: 1.0998 - accuracy: 0.3562 - val_loss: 1.0535 - val_accuracy: 0.5929\n",
            "              precision    recall  f1-score   support\n",
            "\n",
            "           0     0.0000    0.0000    0.0000        52\n",
            "           1     0.6047    1.0000    0.7537       205\n",
            "           2     0.0000    0.0000    0.0000        82\n",
            "\n",
            "    accuracy                         0.6047       339\n",
            "   macro avg     0.2016    0.3333    0.2512       339\n",
            "weighted avg     0.3657    0.6047    0.4558       339\n",
            "\n"
          ]
        },
        {
          "name": "stderr",
          "output_type": "stream",
          "text": [
            "/home/featurize/tf_gpu_env/lib/python3.11/site-packages/sklearn/metrics/_classification.py:1565: UndefinedMetricWarning: Precision is ill-defined and being set to 0.0 in labels with no predicted samples. Use `zero_division` parameter to control this behavior.\n",
            "  _warn_prf(average, modifier, f\"{metric.capitalize()} is\", len(result))\n",
            "/home/featurize/tf_gpu_env/lib/python3.11/site-packages/sklearn/metrics/_classification.py:1565: UndefinedMetricWarning: Precision is ill-defined and being set to 0.0 in labels with no predicted samples. Use `zero_division` parameter to control this behavior.\n",
            "  _warn_prf(average, modifier, f\"{metric.capitalize()} is\", len(result))\n",
            "/home/featurize/tf_gpu_env/lib/python3.11/site-packages/sklearn/metrics/_classification.py:1565: UndefinedMetricWarning: Precision is ill-defined and being set to 0.0 in labels with no predicted samples. Use `zero_division` parameter to control this behavior.\n",
            "  _warn_prf(average, modifier, f\"{metric.capitalize()} is\", len(result))\n"
          ]
        },
        {
          "data": {
            "image/png": "[encoded data removed]",
            "text/plain": [
              "<Figure size 600x500 with 1 Axes>"
            ]
          },
          "metadata": {},
          "output_type": "display_data"
        },
        {
          "name": "stderr",
          "output_type": "stream",
          "text": [
            "Some layers from the model checkpoint at exp1_checkpoint were not used when initializing TFDistilBertForSequenceClassification: ['dropout_19']\n",
            "- This IS expected if you are initializing TFDistilBertForSequenceClassification from the checkpoint of a model trained on another task or with another architecture (e.g. initializing a BertForSequenceClassification model from a BertForPreTraining model).\n",
            "- This IS NOT expected if you are initializing TFDistilBertForSequenceClassification from the checkpoint of a model that you expect to be exactly identical (initializing a BertForSequenceClassification model from a BertForSequenceClassification model).\n",
            "Some layers of TFDistilBertForSequenceClassification were not initialized from the model checkpoint at exp1_checkpoint and are newly initialized: ['dropout_79']\n",
            "You should probably TRAIN this model on a down-stream task to be able to use it for predictions and inference.\n"
          ]
        },
        {
          "name": "stdout",
          "output_type": "stream",
          "text": [
            "Epoch 1/5\n"
          ]
        },
        {
          "name": "stderr",
          "output_type": "stream",
          "text": [
            "/home/featurize/tf_gpu_env/lib/python3.11/site-packages/keras/src/initializers/initializers.py:120: UserWarning: The initializer TruncatedNormal is unseeded and being called multiple times, which will return identical values each time (even if the initializer is unseeded). Please update your code to provide a seed to the initializer, or avoid using the same initializer instance more than once.\n",
            "  warnings.warn(\n"
          ]
        },
        {
          "name": "stdout",
          "output_type": "stream",
          "text": [
            "50/50 [==============================] - 9s 60ms/step - loss: 2.3737 - accuracy: 0.3335 - val_loss: 1.0365 - val_accuracy: 0.6224\n",
            "Epoch 2/5\n",
            "50/50 [==============================] - 2s 38ms/step - loss: 1.2583 - accuracy: 0.3663 - val_loss: 1.1330 - val_accuracy: 0.2566\n",
            "Epoch 3/5\n",
            "50/50 [==============================] - 2s 38ms/step - loss: 1.1005 - accuracy: 0.3657 - val_loss: 1.1871 - val_accuracy: 0.2389\n",
            "Epoch 4/5\n",
            "50/50 [==============================] - 2s 38ms/step - loss: 1.1087 - accuracy: 0.4067 - val_loss: 1.1194 - val_accuracy: 0.1386\n",
            "Epoch 5/5\n",
            "50/50 [==============================] - 2s 37ms/step - loss: 1.0904 - accuracy: 0.4212 - val_loss: 1.0772 - val_accuracy: 0.2478\n",
            "              precision    recall  f1-score   support\n",
            "\n",
            "           0     0.0000    0.0000    0.0000        49\n",
            "           1     0.0000    0.0000    0.0000       211\n",
            "           2     0.2330    1.0000    0.3780        79\n",
            "\n",
            "    accuracy                         0.2330       339\n",
            "   macro avg     0.0777    0.3333    0.1260       339\n",
            "weighted avg     0.0543    0.2330    0.0881       339\n",
            "\n"
          ]
        },
        {
          "name": "stderr",
          "output_type": "stream",
          "text": [
            "/home/featurize/tf_gpu_env/lib/python3.11/site-packages/sklearn/metrics/_classification.py:1565: UndefinedMetricWarning: Precision is ill-defined and being set to 0.0 in labels with no predicted samples. Use `zero_division` parameter to control this behavior.\n",
            "  _warn_prf(average, modifier, f\"{metric.capitalize()} is\", len(result))\n",
            "/home/featurize/tf_gpu_env/lib/python3.11/site-packages/sklearn/metrics/_classification.py:1565: UndefinedMetricWarning: Precision is ill-defined and being set to 0.0 in labels with no predicted samples. Use `zero_division` parameter to control this behavior.\n",
            "  _warn_prf(average, modifier, f\"{metric.capitalize()} is\", len(result))\n",
            "/home/featurize/tf_gpu_env/lib/python3.11/site-packages/sklearn/metrics/_classification.py:1565: UndefinedMetricWarning: Precision is ill-defined and being set to 0.0 in labels with no predicted samples. Use `zero_division` parameter to control this behavior.\n",
            "  _warn_prf(average, modifier, f\"{metric.capitalize()} is\", len(result))\n"
          ]
        },
        {
          "data": {
            "image/png": "[encoded data removed]",
            "text/plain": [
              "<Figure size 600x500 with 1 Axes>"
            ]
          },
          "metadata": {},
          "output_type": "display_data"
        },
        {
          "name": "stderr",
          "output_type": "stream",
          "text": [
            "Some layers from the model checkpoint at exp1_checkpoint were not used when initializing TFDistilBertForSequenceClassification: ['dropout_19']\n",
            "- This IS expected if you are initializing TFDistilBertForSequenceClassification from the checkpoint of a model trained on another task or with another architecture (e.g. initializing a BertForSequenceClassification model from a BertForPreTraining model).\n",
            "- This IS NOT expected if you are initializing TFDistilBertForSequenceClassification from the checkpoint of a model that you expect to be exactly identical (initializing a BertForSequenceClassification model from a BertForSequenceClassification model).\n",
            "Some layers of TFDistilBertForSequenceClassification were not initialized from the model checkpoint at exp1_checkpoint and are newly initialized: ['dropout_99']\n",
            "You should probably TRAIN this model on a down-stream task to be able to use it for predictions and inference.\n"
          ]
        },
        {
          "name": "stdout",
          "output_type": "stream",
          "text": [
            "Epoch 1/5\n"
          ]
        },
        {
          "name": "stderr",
          "output_type": "stream",
          "text": [
            "/home/featurize/tf_gpu_env/lib/python3.11/site-packages/keras/src/initializers/initializers.py:120: UserWarning: The initializer TruncatedNormal is unseeded and being called multiple times, which will return identical values each time (even if the initializer is unseeded). Please update your code to provide a seed to the initializer, or avoid using the same initializer instance more than once.\n",
            "  warnings.warn(\n"
          ]
        },
        {
          "name": "stdout",
          "output_type": "stream",
          "text": [
            "50/50 [==============================] - 8s 59ms/step - loss: 2.4556 - accuracy: 0.3745 - val_loss: 1.4208 - val_accuracy: 0.3215\n",
            "Epoch 2/5\n",
            "50/50 [==============================] - 2s 37ms/step - loss: 1.1045 - accuracy: 0.5126 - val_loss: 1.0921 - val_accuracy: 0.6785\n",
            "Epoch 3/5\n",
            "50/50 [==============================] - 2s 37ms/step - loss: 0.9491 - accuracy: 0.6665 - val_loss: 1.8167 - val_accuracy: 0.2389\n",
            "Epoch 4/5\n",
            "50/50 [==============================] - 2s 37ms/step - loss: 0.7824 - accuracy: 0.7018 - val_loss: 0.5040 - val_accuracy: 0.7493\n",
            "Epoch 5/5\n",
            "50/50 [==============================] - 2s 37ms/step - loss: 0.6349 - accuracy: 0.8001 - val_loss: 1.0660 - val_accuracy: 0.6755\n",
            "              precision    recall  f1-score   support\n",
            "\n",
            "           0     0.6627    0.9649    0.7857        57\n",
            "           1     1.0000    0.6359    0.7774       206\n",
            "           2     0.5120    0.8421    0.6368        76\n",
            "\n",
            "    accuracy                         0.7375       339\n",
            "   macro avg     0.7249    0.8143    0.7333       339\n",
            "weighted avg     0.8339    0.7375    0.7473       339\n",
            "\n"
          ]
        },
        {
          "data": {
            "image/png": "[encoded data removed]",
            "text/plain": [
              "<Figure size 600x500 with 1 Axes>"
            ]
          },
          "metadata": {},
          "output_type": "display_data"
        },
        {
          "name": "stderr",
          "output_type": "stream",
          "text": [
            "Some layers from the model checkpoint at exp1_checkpoint were not used when initializing TFDistilBertForSequenceClassification: ['dropout_19']\n",
            "- This IS expected if you are initializing TFDistilBertForSequenceClassification from the checkpoint of a model trained on another task or with another architecture (e.g. initializing a BertForSequenceClassification model from a BertForPreTraining model).\n",
            "- This IS NOT expected if you are initializing TFDistilBertForSequenceClassification from the checkpoint of a model that you expect to be exactly identical (initializing a BertForSequenceClassification model from a BertForSequenceClassification model).\n",
            "Some layers of TFDistilBertForSequenceClassification were not initialized from the model checkpoint at exp1_checkpoint and are newly initialized: ['dropout_119']\n",
            "You should probably TRAIN this model on a down-stream task to be able to use it for predictions and inference.\n"
          ]
        },
        {
          "name": "stdout",
          "output_type": "stream",
          "text": [
            "Epoch 1/5\n"
          ]
        },
        {
          "name": "stderr",
          "output_type": "stream",
          "text": [
            "/home/featurize/tf_gpu_env/lib/python3.11/site-packages/keras/src/initializers/initializers.py:120: UserWarning: The initializer TruncatedNormal is unseeded and being called multiple times, which will return identical values each time (even if the initializer is unseeded). Please update your code to provide a seed to the initializer, or avoid using the same initializer instance more than once.\n",
            "  warnings.warn(\n"
          ]
        },
        {
          "name": "stdout",
          "output_type": "stream",
          "text": [
            "50/50 [==============================] - 9s 75ms/step - loss: 2.0137 - accuracy: 0.3474 - val_loss: 3.9340 - val_accuracy: 0.2271\n",
            "Epoch 2/5\n",
            "50/50 [==============================] - 2s 37ms/step - loss: 1.3482 - accuracy: 0.3796 - val_loss: 1.1464 - val_accuracy: 0.2360\n",
            "Epoch 3/5\n",
            "50/50 [==============================] - 2s 38ms/step - loss: 1.1398 - accuracy: 0.5259 - val_loss: 1.5488 - val_accuracy: 0.2684\n",
            "Epoch 4/5\n",
            "50/50 [==============================] - 2s 38ms/step - loss: 1.1366 - accuracy: 0.5523 - val_loss: 0.7063 - val_accuracy: 0.7050\n",
            "Epoch 5/5\n",
            "50/50 [==============================] - 2s 38ms/step - loss: 0.8700 - accuracy: 0.6475 - val_loss: 0.6666 - val_accuracy: 0.7434\n",
            "              precision    recall  f1-score   support\n",
            "\n",
            "           0     0.3968    0.9804    0.5650        51\n",
            "           1     0.9415    0.9461    0.9438       204\n",
            "           2     0.1250    0.0119    0.0217        84\n",
            "\n",
            "    accuracy                         0.7198       339\n",
            "   macro avg     0.4878    0.6461    0.5102       339\n",
            "weighted avg     0.6572    0.7198    0.6583       339\n",
            "\n"
          ]
        },
        {
          "data": {
            "image/png": "[encoded data removed]",
            "text/plain": [
              "<Figure size 600x500 with 1 Axes>"
            ]
          },
          "metadata": {},
          "output_type": "display_data"
        }
      ],
      "source": [
        "for r in [2, 4, 16, 32]:\n",
        "    model = TFAutoModelForSequenceClassification.from_pretrained(\"exp1_checkpoint\")\n",
        "    model.distilbert.embeddings.trainable = False\n",
        "    for i, layer in enumerate(model.distilbert.transformer.layer):\n",
        "        layer.ffn.lin1 = LoRADense(layer.ffn.lin1,r=r, name=f\"lora_lin1_{i}\")\n",
        "        layer.ffn.lin2 = LoRADense(layer.ffn.lin2,r=r, name=f\"lora_lin2_{i}\")\n",
        "\n",
        "    for i in range(model.config.n_layers):\n",
        "        block = model.distilbert.transformer.layer[i]\n",
        "        block.attention.trainable = False\n",
        "        block.sa_layer_norm.trainable = False\n",
        "        block.output_layer_norm.trainable = False\n",
        "\n",
        "    model.pre_classifier.trainable = False\n",
        "    model.classifier.trainable = False\n",
        "    model.compile(\n",
        "      loss=tf.keras.losses.SparseCategoricalCrossentropy(from_logits=True),\n",
        "      metrics   = [\"accuracy\"]\n",
        "    )\n",
        "    history = model.fit(\n",
        "      train_dataset_distilbert_base_uncased, validation_data=val_dataset_distilbert_base_uncased,\n",
        "                                epochs=5,class_weight=class_weight_distilbert\n",
        "    )\n",
        "    y_pred = []\n",
        "    y_true = []\n",
        "    for x, label in test_dataset_distilbert_base_uncased.unbatch():\n",
        "      logits = model(x).logits\n",
        "      y_pred.append(np.argmax(logits))\n",
        "      y_true.append(label.numpy())\n",
        "\n",
        "    y_true = np.array(y_true)\n",
        "\n",
        "    print(classification_report(y_true, y_pred, digits=4))\n",
        "\n",
        "    cm = confusion_matrix(y_true, y_pred)\n",
        "    plt.figure(figsize=(6, 5))\n",
        "    sns.heatmap(cm, annot=True, fmt='d', cmap='Blues', cbar=False)\n",
        "    plt.xlabel('Predicted Label')\n",
        "    plt.ylabel('True Label')\n",
        "    plt.title('Confusion Matrix')\n",
        "    plt.show()"
      ]
    },
    {
      "cell_type": "markdown",
      "source": [
        "***How does the Performance Metric change with rank?***\n",
        "\n",
        "\n",
        "As the LoRA rank increases, the model performance initially improves, then slightly degrades at the highest tested rank:\n",
        "\n",
        "* Low rank (2, 4): Performance is poor due to underfitting. The model lacks sufficient capacity to adapt, often defaulting to a single dominant class (label 1).\n",
        "\n",
        "* Mid rank (16): Achieves the best overall performance, with high macro and weighted F1-scores, and balanced class-wise predictions.\n",
        "\n",
        "* High rank (32): Slight drop in performance, especially on minority classes (e.g., label 2), indicating potential overfitting or diminished returns."
      ],
      "metadata": {
        "id": "e6hKwlOwJjvq"
      }
    },
    {
      "cell_type": "code",
      "execution_count": null,
      "metadata": {
        "id": "3vyowwT6jNZF"
      },
      "outputs": [],
      "source": []
    }
  ],
  "metadata": {
    "accelerator": "GPU",
    "colab": {
      "gpuType": "T4",
      "provenance": []
    },
    "kernelspec": {
      "display_name": "Python (tf_gpu_env)",
      "language": "python",
      "name": "tf_gpu_env"
    },
    "language_info": {
      "codemirror_mode": {
        "name": "ipython",
        "version": 3
      },
      "file_extension": ".py",
      "mimetype": "text/x-python",
      "name": "python",
      "nbconvert_exporter": "python",
      "pygments_lexer": "ipython3",
      "version": "3.11.8"
    }
  },
  "nbformat": 4,
  "nbformat_minor": 0
}